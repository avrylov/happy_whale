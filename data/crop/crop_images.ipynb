{
 "cells": [
  {
   "cell_type": "code",
   "execution_count": 15,
   "metadata": {},
   "outputs": [],
   "source": [
    "import os\n",
    "\n",
    "import numpy as np\n",
    "from sklearn.model_selection import KFold\n",
    "from tqdm.notebook import tqdm\n",
    "\n",
    "tqdm.pandas()\n",
    "import pandas as pd\n",
    "import os\n",
    "import cv2\n",
    "import matplotlib.pyplot as plt\n",
    "import glob\n",
    "\n",
    "import imagesize\n",
    "import shutil\n",
    "\n",
    "from joblib import Parallel, delayed\n",
    "\n",
    "import wandb"
   ]
  },
  {
   "cell_type": "code",
   "execution_count": 2,
   "metadata": {},
   "outputs": [
    {
     "name": "stderr",
     "output_type": "stream",
     "text": [
      "Failed to detect the name of this notebook, you can set it manually with the WANDB_NOTEBOOK_NAME environment variable to enable code saving.\n",
      "\u001B[34m\u001B[1mwandb\u001B[0m: Currently logged in as: \u001B[33mbucks2309\u001B[0m (use `wandb login --relogin` to force relogin)\n",
      "\u001B[34m\u001B[1mwandb\u001B[0m: \u001B[33mWARNING\u001B[0m If you're specifying your api key in code, ensure this code is not shared publicly.\n",
      "\u001B[34m\u001B[1mwandb\u001B[0m: \u001B[33mWARNING\u001B[0m Consider setting the WANDB_API_KEY environment variable, or running `wandb login` from the command line.\n",
      "\u001B[34m\u001B[1mwandb\u001B[0m: Appending key for api.wandb.ai to your netrc file: /home/misha/.netrc\n"
     ]
    },
    {
     "data": {
      "text/plain": [
       "True"
      ]
     },
     "execution_count": 2,
     "metadata": {},
     "output_type": "execute_result"
    }
   ],
   "source": [
    "api_wandb_key = 'cf1380c2be4499f36827184321c87d7da7942cc7' # tsss do not tell anyone\n",
    "wandb.login(key=api_wandb_key)"
   ]
  },
  {
   "cell_type": "code",
   "execution_count": 3,
   "metadata": {},
   "outputs": [],
   "source": [
    "FOLD = 0  # which fold to train\n",
    "DIM = 640\n",
    "MODEL = \"yolov5x\"\n",
    "BATCH = 16\n",
    "EPOCHS = 15\n",
    "OPTMIZER = \"SGD\"\n",
    "\n",
    "PROJECT = \"happywhale-det-public\"  # w&b in yolov5\n",
    "NAME = f\"{MODEL}-dim{DIM}-fold{FOLD}\"  # w&b for yolov5\n",
    "\n",
    "REBEL_PATH = '/home/misha/geoframework/'\n",
    "DATA_PATH = '/media/storage3/data3T/happy_whale/hump_bbox'\n",
    "ROOT_DIR = os.path.join(REBEL_PATH, 'models/rnd/happy_whale/data/crop')\n",
    "\n",
    "IMAGE_DIR = os.path.join(DATA_PATH, \"train\")  # directory to save images\n",
    "LABEL_DIR = os.path.join(DATA_PATH, \"labels\")  # directory to save labels"
   ]
  },
  {
   "cell_type": "code",
   "execution_count": 4,
   "metadata": {},
   "outputs": [],
   "source": [
    "# !mkdir -p {IMAGE_DIR}\n",
    "!mkdir -p {LABEL_DIR}"
   ]
  },
  {
   "cell_type": "code",
   "execution_count": 5,
   "metadata": {},
   "outputs": [
    {
     "data": {
      "text/html": [
       "<div>\n",
       "<style scoped>\n",
       "    .dataframe tbody tr th:only-of-type {\n",
       "        vertical-align: middle;\n",
       "    }\n",
       "\n",
       "    .dataframe tbody tr th {\n",
       "        vertical-align: top;\n",
       "    }\n",
       "\n",
       "    .dataframe thead th {\n",
       "        text-align: right;\n",
       "    }\n",
       "</style>\n",
       "<table border=\"1\" class=\"dataframe\">\n",
       "  <thead>\n",
       "    <tr style=\"text-align: right;\">\n",
       "      <th></th>\n",
       "      <th>Image</th>\n",
       "      <th>Id</th>\n",
       "      <th>image_id</th>\n",
       "      <th>image_path</th>\n",
       "      <th>label_path</th>\n",
       "    </tr>\n",
       "  </thead>\n",
       "  <tbody>\n",
       "    <tr>\n",
       "      <th>0</th>\n",
       "      <td>00022e1a.jpg</td>\n",
       "      <td>w_e15442c</td>\n",
       "      <td>00022e1a.jpg</td>\n",
       "      <td>/media/storage3/data3T/happy_whale/hump_bbox/t...</td>\n",
       "      <td>/media/storage3/data3T/happy_whale/hump_bbox/l...</td>\n",
       "    </tr>\n",
       "    <tr>\n",
       "      <th>1</th>\n",
       "      <td>000466c4.jpg</td>\n",
       "      <td>w_1287fbc</td>\n",
       "      <td>000466c4.jpg</td>\n",
       "      <td>/media/storage3/data3T/happy_whale/hump_bbox/t...</td>\n",
       "      <td>/media/storage3/data3T/happy_whale/hump_bbox/l...</td>\n",
       "    </tr>\n",
       "  </tbody>\n",
       "</table>\n",
       "</div>"
      ],
      "text/plain": [
       "          Image         Id      image_id  \\\n",
       "0  00022e1a.jpg  w_e15442c  00022e1a.jpg   \n",
       "1  000466c4.jpg  w_1287fbc  000466c4.jpg   \n",
       "\n",
       "                                          image_path  \\\n",
       "0  /media/storage3/data3T/happy_whale/hump_bbox/t...   \n",
       "1  /media/storage3/data3T/happy_whale/hump_bbox/t...   \n",
       "\n",
       "                                          label_path  \n",
       "0  /media/storage3/data3T/happy_whale/hump_bbox/l...  \n",
       "1  /media/storage3/data3T/happy_whale/hump_bbox/l...  "
      ]
     },
     "execution_count": 5,
     "metadata": {},
     "output_type": "execute_result"
    }
   ],
   "source": [
    "df = pd.read_csv(f\"{DATA_PATH}/train.csv\")\n",
    "\n",
    "# Train Data\n",
    "\n",
    "df[\"image_id\"] = df[\"Image\"]\n",
    "df[\"image_path\"] = f\"{IMAGE_DIR}/\" + df.image_id\n",
    "df[\"label_path\"] = f\"{LABEL_DIR}/\" + df.image_id.str.replace(\"jpg\", \"txt\")\n",
    "df.head(2)"
   ]
  },
  {
   "cell_type": "markdown",
   "metadata": {},
   "source": [
    "### Create BBox"
   ]
  },
  {
   "cell_type": "code",
   "execution_count": 6,
   "metadata": {},
   "outputs": [],
   "source": [
    "from bbox.utils import coco2yolo, coco2voc, voc2yolo, yolo2voc\n",
    "from bbox.utils import draw_bboxes, load_image\n",
    "from bbox.utils import clip_bbox, str2annot, annot2str\n",
    "\n",
    "def get_bbox(annots):\n",
    "    bboxes = [list(annot.values()) for annot in annots]\n",
    "    return bboxes\n",
    "\n",
    "def get_imgsize(row):\n",
    "    row['width'], row['height'] = imagesize.get(row['image_path'])\n",
    "    return row\n",
    "\n",
    "np.random.seed(32)\n",
    "colors = [(np.random.randint(255), np.random.randint(255), np.random.randint(255))\\\n",
    "          for idx in range(1)]"
   ]
  },
  {
   "cell_type": "code",
   "execution_count": 7,
   "metadata": {},
   "outputs": [],
   "source": [
    "def point2bbox(points):\n",
    "    points = np.array(points)\n",
    "    points = points.astype('int') # str -> int\n",
    "    points = points.reshape(-1, 2) # shape: (None, ) -> shape: (None, 2) => (x, y) format\n",
    "    xmin, ymin, xmax, ymax = points[:, 0].min(), points[:, 1].min(), points[:, 0].max(), points[:, 1].max()\n",
    "    return [[xmin, ymin, xmax, ymax]]"
   ]
  },
  {
   "cell_type": "code",
   "execution_count": 8,
   "metadata": {},
   "outputs": [],
   "source": [
    "f = open('cropping.txt','rt').read()\n",
    "id2point = {x.split(',')[0]:x.split(',')[1:] for x in f.split('\\n')}\n",
    "df['point'] = df['image_id'].map(id2point)\n",
    "df = df[~df.point.isna()]\n",
    "df['bbox'] = df.point.map(point2bbox)"
   ]
  },
  {
   "cell_type": "markdown",
   "metadata": {},
   "source": [
    "### Get Image-Size"
   ]
  },
  {
   "cell_type": "code",
   "execution_count": 9,
   "metadata": {},
   "outputs": [
    {
     "data": {
      "application/vnd.jupyter.widget-view+json": {
       "model_id": "8ee065646c2843ffbb3447ec3ab9cae2",
       "version_major": 2,
       "version_minor": 0
      },
      "text/plain": [
       "  0%|          | 0/1200 [00:00<?, ?it/s]"
      ]
     },
     "metadata": {},
     "output_type": "display_data"
    },
    {
     "data": {
      "text/html": [
       "<div>\n",
       "<style scoped>\n",
       "    .dataframe tbody tr th:only-of-type {\n",
       "        vertical-align: middle;\n",
       "    }\n",
       "\n",
       "    .dataframe tbody tr th {\n",
       "        vertical-align: top;\n",
       "    }\n",
       "\n",
       "    .dataframe thead th {\n",
       "        text-align: right;\n",
       "    }\n",
       "</style>\n",
       "<table border=\"1\" class=\"dataframe\">\n",
       "  <thead>\n",
       "    <tr style=\"text-align: right;\">\n",
       "      <th></th>\n",
       "      <th>Image</th>\n",
       "      <th>Id</th>\n",
       "      <th>image_id</th>\n",
       "      <th>image_path</th>\n",
       "      <th>label_path</th>\n",
       "      <th>point</th>\n",
       "      <th>bbox</th>\n",
       "      <th>width</th>\n",
       "      <th>height</th>\n",
       "    </tr>\n",
       "  </thead>\n",
       "  <tbody>\n",
       "    <tr>\n",
       "      <th>1</th>\n",
       "      <td>000466c4.jpg</td>\n",
       "      <td>w_1287fbc</td>\n",
       "      <td>000466c4.jpg</td>\n",
       "      <td>/media/storage3/data3T/happy_whale/hump_bbox/t...</td>\n",
       "      <td>/media/storage3/data3T/happy_whale/hump_bbox/l...</td>\n",
       "      <td>[233, 308, 243, 301, 508, 307, 578, 391, 561, ...</td>\n",
       "      <td>[[233, 301, 578, 434]]</td>\n",
       "      <td>1050</td>\n",
       "      <td>700</td>\n",
       "    </tr>\n",
       "    <tr>\n",
       "      <th>2</th>\n",
       "      <td>00087b01.jpg</td>\n",
       "      <td>w_da2efe0</td>\n",
       "      <td>00087b01.jpg</td>\n",
       "      <td>/media/storage3/data3T/happy_whale/hump_bbox/t...</td>\n",
       "      <td>/media/storage3/data3T/happy_whale/hump_bbox/l...</td>\n",
       "      <td>[1, 63, 80, 8, 1010, 20, 1040, 28, 473, 365, 3...</td>\n",
       "      <td>[[1, 8, 1040, 366]]</td>\n",
       "      <td>1050</td>\n",
       "      <td>368</td>\n",
       "    </tr>\n",
       "  </tbody>\n",
       "</table>\n",
       "</div>"
      ],
      "text/plain": [
       "          Image         Id      image_id  \\\n",
       "1  000466c4.jpg  w_1287fbc  000466c4.jpg   \n",
       "2  00087b01.jpg  w_da2efe0  00087b01.jpg   \n",
       "\n",
       "                                          image_path  \\\n",
       "1  /media/storage3/data3T/happy_whale/hump_bbox/t...   \n",
       "2  /media/storage3/data3T/happy_whale/hump_bbox/t...   \n",
       "\n",
       "                                          label_path  \\\n",
       "1  /media/storage3/data3T/happy_whale/hump_bbox/l...   \n",
       "2  /media/storage3/data3T/happy_whale/hump_bbox/l...   \n",
       "\n",
       "                                               point                    bbox  \\\n",
       "1  [233, 308, 243, 301, 508, 307, 578, 391, 561, ...  [[233, 301, 578, 434]]   \n",
       "2  [1, 63, 80, 8, 1010, 20, 1040, 28, 473, 365, 3...     [[1, 8, 1040, 366]]   \n",
       "\n",
       "   width  height  \n",
       "1   1050     700  \n",
       "2   1050     368  "
      ]
     },
     "metadata": {},
     "output_type": "display_data"
    }
   ],
   "source": [
    "df = df.progress_apply(get_imgsize, axis=1)\n",
    "display(df.head(2))"
   ]
  },
  {
   "cell_type": "markdown",
   "metadata": {},
   "source": [
    "### Create Labels"
   ]
  },
  {
   "cell_type": "code",
   "execution_count": 10,
   "metadata": {},
   "outputs": [],
   "source": [
    "# We need to export our labels to YOLO format, with one *.txt file per image (if no objects in image, no *.txt file is required).\n",
    "# The *.txt file specifications are:\n",
    "\n",
    "# One row per object\n",
    "\n",
    "# Each row is class [x_center, y_center, width, height] format.\n",
    "\n",
    "# Box coordinates must be in normalized xywh format (from 0 - 1).\n",
    "# If your boxes are in pixels, divide x_center and width by image width, and y_center and height by image height.\n",
    "\n",
    "# Class numbers are zero-indexed (start from 0).\n",
    "\n",
    "# Dataset bbox format is VOC-PASCAL hence [x_min, y_min, x_max, y_max].\n",
    "# So, we need to convert form VOC-PASCAL to YOLO format."
   ]
  },
  {
   "cell_type": "code",
   "execution_count": 11,
   "metadata": {},
   "outputs": [
    {
     "data": {
      "application/vnd.jupyter.widget-view+json": {
       "model_id": "f38451bd2db34faf8ca172406780c3ed",
       "version_major": 2,
       "version_minor": 0
      },
      "text/plain": [
       "  0%|          | 0/1200 [00:00<?, ?it/s]"
      ]
     },
     "metadata": {},
     "output_type": "display_data"
    },
    {
     "name": "stdout",
     "output_type": "stream",
     "text": [
      "Missing: 0\n"
     ]
    }
   ],
   "source": [
    "cnt = 0\n",
    "all_bboxes = []\n",
    "bboxes_info = []\n",
    "for row_idx in tqdm(range(df.shape[0])):\n",
    "    row = df.iloc[row_idx]\n",
    "    image_height = row.height\n",
    "    image_width = row.width\n",
    "    bboxes_voc = np.array(row.bbox).astype(np.float32).copy()\n",
    "    num_bbox = len(bboxes_voc)\n",
    "    names = [\"whale\"] * num_bbox\n",
    "    labels = np.array([0] * num_bbox)[..., None].astype(str)\n",
    "    ## Create Annotation(YOLO)\n",
    "    with open(row.label_path, \"w\") as f:\n",
    "        if num_bbox < 1:\n",
    "            annot = \"\"\n",
    "            f.write(annot)\n",
    "            cnt += 1\n",
    "            continue\n",
    "        #         bboxes_voc  = coco2voc(bboxes_coco, image_height, image_width)\n",
    "        bboxes_voc = clip_bbox(bboxes_voc, image_height, image_width)\n",
    "        bboxes_yolo = voc2yolo(bboxes_voc, image_height, image_width).astype(str)\n",
    "        all_bboxes.extend(bboxes_yolo.astype(float))\n",
    "        bboxes_info.extend([[row.image_id]] * len(bboxes_yolo))\n",
    "        annots = np.concatenate([labels, bboxes_yolo], axis=1)\n",
    "        string = annot2str(annots)\n",
    "        f.write(string)\n",
    "print(\"Missing:\", cnt)"
   ]
  },
  {
   "cell_type": "markdown",
   "metadata": {},
   "source": [
    "### Create Folds\n",
    "Number of samples aren't same in each fold which can create large variance in Cross-Validation."
   ]
  },
  {
   "cell_type": "code",
   "execution_count": 16,
   "metadata": {},
   "outputs": [
    {
     "data": {
      "text/plain": [
       "2    200\n",
       "5    200\n",
       "1    200\n",
       "4    200\n",
       "0    200\n",
       "3    200\n",
       "Name: fold, dtype: int64"
      ]
     },
     "execution_count": 16,
     "metadata": {},
     "output_type": "execute_result"
    }
   ],
   "source": [
    "kf = KFold(n_splits=6, random_state=42, shuffle=True)\n",
    "df = df.reset_index(drop=True)\n",
    "df['fold'] = -1\n",
    "for fold, (train_idx, val_idx) in enumerate(kf.split(df)):\n",
    "    df.loc[val_idx, 'fold'] = fold\n",
    "df.fold.value_counts()"
   ]
  },
  {
   "cell_type": "markdown",
   "metadata": {},
   "source": [
    "### BBox Distribution"
   ]
  },
  {
   "cell_type": "code",
   "execution_count": 18,
   "metadata": {},
   "outputs": [
    {
     "data": {
      "text/html": [
       "<div>\n",
       "<style scoped>\n",
       "    .dataframe tbody tr th:only-of-type {\n",
       "        vertical-align: middle;\n",
       "    }\n",
       "\n",
       "    .dataframe tbody tr th {\n",
       "        vertical-align: top;\n",
       "    }\n",
       "\n",
       "    .dataframe thead th {\n",
       "        text-align: right;\n",
       "    }\n",
       "</style>\n",
       "<table border=\"1\" class=\"dataframe\">\n",
       "  <thead>\n",
       "    <tr style=\"text-align: right;\">\n",
       "      <th></th>\n",
       "      <th>image_id</th>\n",
       "      <th>xmid</th>\n",
       "      <th>ymid</th>\n",
       "      <th>w</th>\n",
       "      <th>h</th>\n",
       "      <th>area</th>\n",
       "      <th>fold</th>\n",
       "    </tr>\n",
       "  </thead>\n",
       "  <tbody>\n",
       "    <tr>\n",
       "      <th>0</th>\n",
       "      <td>000466c4.jpg</td>\n",
       "      <td>0.386190</td>\n",
       "      <td>0.525000</td>\n",
       "      <td>0.328571</td>\n",
       "      <td>0.190000</td>\n",
       "      <td>0.062429</td>\n",
       "      <td>2</td>\n",
       "    </tr>\n",
       "    <tr>\n",
       "      <th>1</th>\n",
       "      <td>00087b01.jpg</td>\n",
       "      <td>0.495714</td>\n",
       "      <td>0.508152</td>\n",
       "      <td>0.989524</td>\n",
       "      <td>0.972826</td>\n",
       "      <td>0.962635</td>\n",
       "      <td>5</td>\n",
       "    </tr>\n",
       "  </tbody>\n",
       "</table>\n",
       "</div>"
      ],
      "text/plain": [
       "       image_id      xmid      ymid         w         h      area  fold\n",
       "0  000466c4.jpg  0.386190  0.525000  0.328571  0.190000  0.062429     2\n",
       "1  00087b01.jpg  0.495714  0.508152  0.989524  0.972826  0.962635     5"
      ]
     },
     "execution_count": 18,
     "metadata": {},
     "output_type": "execute_result"
    }
   ],
   "source": [
    "bbox_df = pd.DataFrame(np.concatenate([bboxes_info, all_bboxes], axis=1),\n",
    "             columns=['image_id','xmid','ymid','w','h'])\n",
    "bbox_df[['xmid','ymid','w','h']] = bbox_df[['xmid','ymid','w','h']].astype(float)\n",
    "bbox_df['area'] = bbox_df.w * bbox_df.h\n",
    "bbox_df = bbox_df.merge(df[['image_id','fold']], on='image_id', how='left')\n",
    "bbox_df.head(2)"
   ]
  },
  {
   "cell_type": "code",
   "execution_count": null,
   "metadata": {},
   "outputs": [],
   "source": []
  }
 ],
 "metadata": {
  "kernelspec": {
   "display_name": "co2",
   "language": "python",
   "name": "co2"
  },
  "language_info": {
   "codemirror_mode": {
    "name": "ipython",
    "version": 3
   },
   "file_extension": ".py",
   "mimetype": "text/x-python",
   "name": "python",
   "nbconvert_exporter": "python",
   "pygments_lexer": "ipython3",
   "version": "3.8.10"
  }
 },
 "nbformat": 4,
 "nbformat_minor": 1
}