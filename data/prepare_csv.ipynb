{
 "cells": [
  {
   "cell_type": "code",
   "execution_count": 82,
   "metadata": {
    "collapsed": true
   },
   "outputs": [],
   "source": [
    "from random import shuffle\n",
    "\n",
    "import pandas as pd\n",
    "import numpy as np\n",
    "\n",
    "from tqdm import tqdm\n",
    "\n",
    "import warnings\n",
    "warnings.filterwarnings('ignore')"
   ]
  },
  {
   "cell_type": "code",
   "execution_count": 2,
   "outputs": [
    {
     "data": {
      "text/plain": "                image             species individual_id\n0  00021adfb725ed.jpg  melon_headed_whale  cadddb1636b9\n1  000562241d384d.jpg      humpback_whale  1a71fbb72250\n2  0007c33415ce37.jpg  false_killer_whale  60008f293a2b\n3  0007d9bca26a99.jpg  bottlenose_dolphin  4b00fe572063\n4  00087baf5cef7a.jpg      humpback_whale  8e5253662392",
      "text/html": "<div>\n<style scoped>\n    .dataframe tbody tr th:only-of-type {\n        vertical-align: middle;\n    }\n\n    .dataframe tbody tr th {\n        vertical-align: top;\n    }\n\n    .dataframe thead th {\n        text-align: right;\n    }\n</style>\n<table border=\"1\" class=\"dataframe\">\n  <thead>\n    <tr style=\"text-align: right;\">\n      <th></th>\n      <th>image</th>\n      <th>species</th>\n      <th>individual_id</th>\n    </tr>\n  </thead>\n  <tbody>\n    <tr>\n      <th>0</th>\n      <td>00021adfb725ed.jpg</td>\n      <td>melon_headed_whale</td>\n      <td>cadddb1636b9</td>\n    </tr>\n    <tr>\n      <th>1</th>\n      <td>000562241d384d.jpg</td>\n      <td>humpback_whale</td>\n      <td>1a71fbb72250</td>\n    </tr>\n    <tr>\n      <th>2</th>\n      <td>0007c33415ce37.jpg</td>\n      <td>false_killer_whale</td>\n      <td>60008f293a2b</td>\n    </tr>\n    <tr>\n      <th>3</th>\n      <td>0007d9bca26a99.jpg</td>\n      <td>bottlenose_dolphin</td>\n      <td>4b00fe572063</td>\n    </tr>\n    <tr>\n      <th>4</th>\n      <td>00087baf5cef7a.jpg</td>\n      <td>humpback_whale</td>\n      <td>8e5253662392</td>\n    </tr>\n  </tbody>\n</table>\n</div>"
     },
     "execution_count": 2,
     "metadata": {},
     "output_type": "execute_result"
    }
   ],
   "source": [
    "df = pd.read_csv('train.csv')\n",
    "df.head()"
   ],
   "metadata": {
    "collapsed": false,
    "pycharm": {
     "name": "#%%\n"
    }
   }
  },
  {
   "cell_type": "code",
   "execution_count": 3,
   "outputs": [
    {
     "data": {
      "text/plain": "                     image             species individual_id\ncount                51033               51033         51033\nunique               51033                  30         15587\ntop     00021adfb725ed.jpg  bottlenose_dolphin  37c7aba965a5\nfreq                     1                9664           400",
      "text/html": "<div>\n<style scoped>\n    .dataframe tbody tr th:only-of-type {\n        vertical-align: middle;\n    }\n\n    .dataframe tbody tr th {\n        vertical-align: top;\n    }\n\n    .dataframe thead th {\n        text-align: right;\n    }\n</style>\n<table border=\"1\" class=\"dataframe\">\n  <thead>\n    <tr style=\"text-align: right;\">\n      <th></th>\n      <th>image</th>\n      <th>species</th>\n      <th>individual_id</th>\n    </tr>\n  </thead>\n  <tbody>\n    <tr>\n      <th>count</th>\n      <td>51033</td>\n      <td>51033</td>\n      <td>51033</td>\n    </tr>\n    <tr>\n      <th>unique</th>\n      <td>51033</td>\n      <td>30</td>\n      <td>15587</td>\n    </tr>\n    <tr>\n      <th>top</th>\n      <td>00021adfb725ed.jpg</td>\n      <td>bottlenose_dolphin</td>\n      <td>37c7aba965a5</td>\n    </tr>\n    <tr>\n      <th>freq</th>\n      <td>1</td>\n      <td>9664</td>\n      <td>400</td>\n    </tr>\n  </tbody>\n</table>\n</div>"
     },
     "execution_count": 3,
     "metadata": {},
     "output_type": "execute_result"
    }
   ],
   "source": [
    "df.describe()"
   ],
   "metadata": {
    "collapsed": false,
    "pycharm": {
     "name": "#%%\n"
    }
   }
  },
  {
   "cell_type": "code",
   "execution_count": 6,
   "outputs": [
    {
     "data": {
      "text/plain": "               image\nindividual_id       \n37c7aba965a5     400\n114207cab555     168\na6e325d8e924     155\n19fbb960f07d     154\nc995c043c353     153\n...              ...\n6a0003ef9501       1\n6a05336be085       1\n6a0ce195bb3f       1\n6a0e03dead96       1\n7ed7d19fd5e0       1\n\n[15587 rows x 1 columns]",
      "text/html": "<div>\n<style scoped>\n    .dataframe tbody tr th:only-of-type {\n        vertical-align: middle;\n    }\n\n    .dataframe tbody tr th {\n        vertical-align: top;\n    }\n\n    .dataframe thead th {\n        text-align: right;\n    }\n</style>\n<table border=\"1\" class=\"dataframe\">\n  <thead>\n    <tr style=\"text-align: right;\">\n      <th></th>\n      <th>image</th>\n    </tr>\n    <tr>\n      <th>individual_id</th>\n      <th></th>\n    </tr>\n  </thead>\n  <tbody>\n    <tr>\n      <th>37c7aba965a5</th>\n      <td>400</td>\n    </tr>\n    <tr>\n      <th>114207cab555</th>\n      <td>168</td>\n    </tr>\n    <tr>\n      <th>a6e325d8e924</th>\n      <td>155</td>\n    </tr>\n    <tr>\n      <th>19fbb960f07d</th>\n      <td>154</td>\n    </tr>\n    <tr>\n      <th>c995c043c353</th>\n      <td>153</td>\n    </tr>\n    <tr>\n      <th>...</th>\n      <td>...</td>\n    </tr>\n    <tr>\n      <th>6a0003ef9501</th>\n      <td>1</td>\n    </tr>\n    <tr>\n      <th>6a05336be085</th>\n      <td>1</td>\n    </tr>\n    <tr>\n      <th>6a0ce195bb3f</th>\n      <td>1</td>\n    </tr>\n    <tr>\n      <th>6a0e03dead96</th>\n      <td>1</td>\n    </tr>\n    <tr>\n      <th>7ed7d19fd5e0</th>\n      <td>1</td>\n    </tr>\n  </tbody>\n</table>\n<p>15587 rows × 1 columns</p>\n</div>"
     },
     "execution_count": 6,
     "metadata": {},
     "output_type": "execute_result"
    }
   ],
   "source": [
    "df.groupby('individual_id')[['image']].count().sort_values('image', ascending=False)"
   ],
   "metadata": {
    "collapsed": false,
    "pycharm": {
     "name": "#%%\n"
    }
   }
  },
  {
   "cell_type": "markdown",
   "source": [
    "Формируем датасет для chdt"
   ],
   "metadata": {
    "collapsed": false
   }
  },
  {
   "cell_type": "code",
   "execution_count": 127,
   "outputs": [
    {
     "name": "stderr",
     "output_type": "stream",
     "text": [
      "100%|██████████| 15587/15587 [03:16<00:00, 79.32it/s]\n"
     ]
    }
   ],
   "source": [
    "df_chdt = pd.DataFrame()\n",
    "\n",
    "for _id in tqdm(df['individual_id'].unique()):\n",
    "    df_id = df[df['individual_id'] == _id] # по каждому id формируем df\n",
    "    id_specie = df_id['species'].values[0]\n",
    "    df_id_len = len(df_id)\n",
    "\n",
    "    df_rest = df[\n",
    "        (~df['individual_id'].isin([_id]))\n",
    "        &\n",
    "        (df['species'] == id_specie)\n",
    "    ] # df исключая текущий айди но такого же вида\n",
    "    random_ims = df_rest['image'].sample(n=df_id_len).values # рандомные картинки такого же вида\n",
    "\n",
    "    init_ims = df_id['image'].values\n",
    "    random_init_ims = init_ims.copy()\n",
    "    shuffle(random_init_ims) # мешаем картинки теущего айди\n",
    "    df_id['image_b'] = random_init_ims\n",
    "    df_id['label'] = 1 # добавляем их с лейблом 1\n",
    "\n",
    "    df_id_copy = df_id.copy()\n",
    "    df_id_copy['image_b'] = random_ims\n",
    "    df_id_copy['label'] = 0 # добавляем рандомные картинки такого же вида с лейблом 0\n",
    "\n",
    "    df_concat = pd.concat([df_id, df_id_copy]) # конкатинируем для одного айди\n",
    "\n",
    "    df_chdt = df_chdt.append(df_concat) # добавляем в общую кучу"
   ],
   "metadata": {
    "collapsed": false,
    "pycharm": {
     "name": "#%%\n"
    }
   }
  },
  {
   "cell_type": "code",
   "execution_count": 128,
   "outputs": [
    {
     "data": {
      "text/plain": "                  image_a             species individual_id  \\\n0      00021adfb725ed.jpg  melon_headed_whale  cadddb1636b9   \n0      00021adfb725ed.jpg  melon_headed_whale  cadddb1636b9   \n1      000562241d384d.jpg      humpback_whale  1a71fbb72250   \n50972  ffae18d2939ffc.jpg      humpback_whale  1a71fbb72250   \n1      000562241d384d.jpg      humpback_whale  1a71fbb72250   \n\n                  image_b  label  \n0      00021adfb725ed.jpg      1  \n0      b59f062d32de83.jpg      0  \n1      ffae18d2939ffc.jpg      1  \n50972  000562241d384d.jpg      1  \n1      7c79741f6d59a2.jpg      0  ",
      "text/html": "<div>\n<style scoped>\n    .dataframe tbody tr th:only-of-type {\n        vertical-align: middle;\n    }\n\n    .dataframe tbody tr th {\n        vertical-align: top;\n    }\n\n    .dataframe thead th {\n        text-align: right;\n    }\n</style>\n<table border=\"1\" class=\"dataframe\">\n  <thead>\n    <tr style=\"text-align: right;\">\n      <th></th>\n      <th>image_a</th>\n      <th>species</th>\n      <th>individual_id</th>\n      <th>image_b</th>\n      <th>label</th>\n    </tr>\n  </thead>\n  <tbody>\n    <tr>\n      <th>0</th>\n      <td>00021adfb725ed.jpg</td>\n      <td>melon_headed_whale</td>\n      <td>cadddb1636b9</td>\n      <td>00021adfb725ed.jpg</td>\n      <td>1</td>\n    </tr>\n    <tr>\n      <th>0</th>\n      <td>00021adfb725ed.jpg</td>\n      <td>melon_headed_whale</td>\n      <td>cadddb1636b9</td>\n      <td>b59f062d32de83.jpg</td>\n      <td>0</td>\n    </tr>\n    <tr>\n      <th>1</th>\n      <td>000562241d384d.jpg</td>\n      <td>humpback_whale</td>\n      <td>1a71fbb72250</td>\n      <td>ffae18d2939ffc.jpg</td>\n      <td>1</td>\n    </tr>\n    <tr>\n      <th>50972</th>\n      <td>ffae18d2939ffc.jpg</td>\n      <td>humpback_whale</td>\n      <td>1a71fbb72250</td>\n      <td>000562241d384d.jpg</td>\n      <td>1</td>\n    </tr>\n    <tr>\n      <th>1</th>\n      <td>000562241d384d.jpg</td>\n      <td>humpback_whale</td>\n      <td>1a71fbb72250</td>\n      <td>7c79741f6d59a2.jpg</td>\n      <td>0</td>\n    </tr>\n  </tbody>\n</table>\n</div>"
     },
     "execution_count": 128,
     "metadata": {},
     "output_type": "execute_result"
    }
   ],
   "source": [
    "df_chdt = df_chdt.rename(columns={'image': 'image_a'})\n",
    "df_chdt.head()"
   ],
   "metadata": {
    "collapsed": false,
    "pycharm": {
     "name": "#%%\n"
    }
   }
  },
  {
   "cell_type": "markdown",
   "source": [
    "Формируем датасеты исключая перемешивания айдишников"
   ],
   "metadata": {
    "collapsed": false
   }
  },
  {
   "cell_type": "code",
   "execution_count": 130,
   "outputs": [
    {
     "name": "stderr",
     "output_type": "stream",
     "text": [
      "100%|██████████| 15587/15587 [01:41<00:00, 153.36it/s]\n"
     ]
    },
    {
     "data": {
      "text/plain": "((81656, 5), (20410, 5), (10214, 5))"
     },
     "execution_count": 130,
     "metadata": {},
     "output_type": "execute_result"
    }
   ],
   "source": [
    "ids = df_chdt['individual_id'].unique().tolist()\n",
    "shuffle(ids)\n",
    "\n",
    "train_df = pd.DataFrame()\n",
    "validate_df = pd.DataFrame()\n",
    "test_df = pd.DataFrame()\n",
    "\n",
    "for _id in tqdm(ids):\n",
    "    df_id = df_chdt[df_chdt['individual_id'] == _id]\n",
    "    if train_df.shape[0] <= df_chdt.shape[0] * 0.8: # не больше 80 % на трейн\n",
    "        train_df = train_df.append(df_id)\n",
    "    else:\n",
    "        validate_df = validate_df.append(df_id)\n",
    "    if validate_df.shape[0] > df_chdt.shape[0] * 0.1: # и примерно по 10-15 % на тест/валидацию\n",
    "        test_df = test_df.append(df_id)\n",
    "\n",
    "train_df.shape, validate_df.shape, test_df.shape"
   ],
   "metadata": {
    "collapsed": false,
    "pycharm": {
     "name": "#%%\n"
    }
   }
  },
  {
   "cell_type": "code",
   "execution_count": 131,
   "outputs": [],
   "source": [
    "train_df.to_csv('../csv/train_df.csv', index=False)\n",
    "validate_df.to_csv('../csv/validate_df.csv', index=False)\n",
    "test_df.to_csv('../csv/test_df.csv', index=False)"
   ],
   "metadata": {
    "collapsed": false,
    "pycharm": {
     "name": "#%%\n"
    }
   }
  }
 ],
 "metadata": {
  "kernelspec": {
   "display_name": "Python 3",
   "language": "python",
   "name": "python3"
  },
  "language_info": {
   "codemirror_mode": {
    "name": "ipython",
    "version": 2
   },
   "file_extension": ".py",
   "mimetype": "text/x-python",
   "name": "python",
   "nbconvert_exporter": "python",
   "pygments_lexer": "ipython2",
   "version": "2.7.6"
  }
 },
 "nbformat": 4,
 "nbformat_minor": 0
}