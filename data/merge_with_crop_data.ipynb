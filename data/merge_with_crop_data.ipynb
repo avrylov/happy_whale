{
 "cells": [
  {
   "cell_type": "code",
   "execution_count": 1,
   "metadata": {},
   "outputs": [],
   "source": [
    "import os\n",
    "from random import shuffle\n",
    "\n",
    "import pandas as pd\n",
    "import numpy as np\n",
    "\n",
    "from tqdm import tqdm\n",
    "\n",
    "import warnings\n",
    "warnings.filterwarnings('ignore')"
   ]
  },
  {
   "cell_type": "code",
   "execution_count": 2,
   "metadata": {},
   "outputs": [],
   "source": [
    "PROJECT_PATH = '/media/storage3/data3T/happy_whale/'"
   ]
  },
  {
   "cell_type": "code",
   "execution_count": 3,
   "metadata": {
    "pycharm": {
     "name": "#%%\n"
    }
   },
   "outputs": [],
   "source": [
    "train_df = pd.read_csv('../csv/train_df.csv')\n",
    "validate_df = pd.read_csv('../csv/validate_df.csv')\n",
    "test_df = pd.read_csv('../csv/test_df.csv')\n",
    "\n",
    "df = pd.read_csv(os.path.join(PROJECT_PATH, 'train_bbox.csv'))"
   ]
  },
  {
   "cell_type": "code",
   "execution_count": 4,
   "metadata": {},
   "outputs": [],
   "source": [
    "def merge(df_left, df_right):\n",
    "    \n",
    "    df_left['image_a_id'] = df_left['image_a'].str.replace('.jpg', '')\n",
    "    df_left['image_b_id'] = df_left['image_b'].str.replace('.jpg', '')\n",
    "    df_right['image_id'] = df_right['image_id'].str.replace('.jpg', '')\n",
    "\n",
    "    df_left = df_left.merge(\n",
    "        df_right[['image_id', 'width', 'height', 'bbox_voc']],\n",
    "        left_on='image_a_id', right_on='image_id', how='left'\n",
    "    )\n",
    "\n",
    "    df_left = df_left.drop(columns=['image_id']).rename(\n",
    "        columns={\n",
    "            'width': 'width_a',\n",
    "            'height': 'height_a',\n",
    "            'bbox_voc': 'bbox_voc_a'\n",
    "        }\n",
    "    )\n",
    "\n",
    "    df_left = df_left.merge(\n",
    "        df_right[['image_id', 'width', 'height', 'bbox_voc']],\n",
    "        left_on='image_b_id', right_on='image_id', how='left'\n",
    "    )\n",
    "\n",
    "    df_left = df_left.drop(columns=['image_id']).rename(\n",
    "        columns={\n",
    "            'width': 'width_b',\n",
    "            'height': 'height_b',\n",
    "            'bbox_voc': 'bbox_voc_b'\n",
    "        }\n",
    "    )\n",
    "    \n",
    "    return df_left"
   ]
  },
  {
   "cell_type": "code",
   "execution_count": 5,
   "metadata": {},
   "outputs": [],
   "source": [
    "train_df = merge(train_df, df)\n",
    "validate_df = merge(validate_df, df)\n",
    "test_df = merge(validate_df, df)"
   ]
  },
  {
   "cell_type": "code",
   "execution_count": 7,
   "metadata": {},
   "outputs": [],
   "source": [
    "train_df.to_csv('../csv/train_bbox_df.csv', index=False)\n",
    "validate_df.to_csv('../csv/validate_bbox_df.csv', index=False)\n",
    "test_df.to_csv('../csv/test_bbox_df.csv', index=False)"
   ]
  },
  {
   "cell_type": "code",
   "execution_count": null,
   "metadata": {},
   "outputs": [],
   "source": []
  }
 ],
 "metadata": {
  "kernelspec": {
   "display_name": "Python 3 (ipykernel)",
   "language": "python",
   "name": "python3"
  },
  "language_info": {
   "codemirror_mode": {
    "name": "ipython",
    "version": 3
   },
   "file_extension": ".py",
   "mimetype": "text/x-python",
   "name": "python",
   "nbconvert_exporter": "python",
   "pygments_lexer": "ipython3",
   "version": "3.8.10"
  }
 },
 "nbformat": 4,
 "nbformat_minor": 1
}
